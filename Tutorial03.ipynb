{
  "nbformat": 4,
  "nbformat_minor": 0,
  "metadata": {
    "colab": {
      "provenance": [],
      "authorship_tag": "ABX9TyNUfQSA+G8OFWT7CstqzSeL",
      "include_colab_link": true
    },
    "kernelspec": {
      "name": "python3",
      "display_name": "Python 3"
    },
    "language_info": {
      "name": "python"
    }
  },
  "cells": [
    {
      "cell_type": "markdown",
      "metadata": {
        "id": "view-in-github",
        "colab_type": "text"
      },
      "source": [
        "<a href=\"https://colab.research.google.com/github/shaoern0606/data-science-toolkit/blob/main/Tutorial03.ipynb\" target=\"_parent\"><img src=\"https://colab.research.google.com/assets/colab-badge.svg\" alt=\"Open In Colab\"/></a>"
      ]
    },
    {
      "cell_type": "markdown",
      "source": [
        "Tutorial 03"
      ],
      "metadata": {
        "id": "deJhgK_MX0rH"
      }
    },
    {
      "cell_type": "markdown",
      "source": [
        "#Part 1-Google Colab and Python\n",
        "##1. Create a new notebook and code the following"
      ],
      "metadata": {
        "id": "_rcauo2lZdzF"
      }
    },
    {
      "cell_type": "code",
      "source": [
        "import numpy as np"
      ],
      "metadata": {
        "id": "_lFczdGAYOER"
      },
      "execution_count": 1,
      "outputs": []
    },
    {
      "cell_type": "markdown",
      "source": [
        "###1. Create a numpy array of size 2 x 2"
      ],
      "metadata": {
        "id": "vzewkGOlY3mj"
      }
    },
    {
      "cell_type": "code",
      "source": [
        "n1 = np.array([[1, 2], [3, 4]])\n",
        "print(n1)"
      ],
      "metadata": {
        "colab": {
          "base_uri": "https://localhost:8080/"
        },
        "id": "FZT5FdV9YW_g",
        "outputId": "a133ec55-12e9-4952-ea63-246efa36c097"
      },
      "execution_count": 2,
      "outputs": [
        {
          "output_type": "stream",
          "name": "stdout",
          "text": [
            "[[1 2]\n",
            " [3 4]]\n"
          ]
        }
      ]
    },
    {
      "cell_type": "markdown",
      "source": [
        "###2. Create a random numpy array of size 3 x 4"
      ],
      "metadata": {
        "id": "SO-o4d-6Y-vc"
      }
    },
    {
      "cell_type": "code",
      "source": [
        "n2 = np.random.random((3, 4))\n",
        "print(n2)"
      ],
      "metadata": {
        "colab": {
          "base_uri": "https://localhost:8080/"
        },
        "id": "w6fBYp18Yfzd",
        "outputId": "2e55525b-442d-4e75-bb35-f1de407746cb"
      },
      "execution_count": 3,
      "outputs": [
        {
          "output_type": "stream",
          "name": "stdout",
          "text": [
            "[[0.15601408 0.70929519 0.48683382 0.81636646]\n",
            " [0.14065172 0.43748514 0.11888054 0.60559925]\n",
            " [0.13112216 0.36133998 0.94563723 0.52164077]]\n"
          ]
        }
      ]
    },
    {
      "cell_type": "markdown",
      "source": [
        "###3. Create a numpy array of ones and a numpy array of zeros"
      ],
      "metadata": {
        "id": "U0HAxEMnZCXP"
      }
    },
    {
      "cell_type": "code",
      "source": [
        "n3a = np.ones((2, 2))\n",
        "print(n3a)"
      ],
      "metadata": {
        "colab": {
          "base_uri": "https://localhost:8080/"
        },
        "id": "lvd8asuRYjIX",
        "outputId": "37d652be-f1ec-48d6-fcf3-14fcf1408922"
      },
      "execution_count": 4,
      "outputs": [
        {
          "output_type": "stream",
          "name": "stdout",
          "text": [
            "[[1. 1.]\n",
            " [1. 1.]]\n"
          ]
        }
      ]
    },
    {
      "cell_type": "code",
      "source": [
        "n3b = np.zeros((2, 2))\n",
        "print(n3b)"
      ],
      "metadata": {
        "colab": {
          "base_uri": "https://localhost:8080/"
        },
        "id": "bkPbqSBuYorK",
        "outputId": "d77a0140-3851-4fbc-83fa-ddad248ea885"
      },
      "execution_count": 5,
      "outputs": [
        {
          "output_type": "stream",
          "name": "stdout",
          "text": [
            "[[0. 0.]\n",
            " [0. 0.]]\n"
          ]
        }
      ]
    },
    {
      "cell_type": "markdown",
      "source": [
        "###4. Create a random numpy array of size 6 x 3 and transpose it"
      ],
      "metadata": {
        "id": "vdETrlQlZHYN"
      }
    },
    {
      "cell_type": "code",
      "source": [
        "n4 = np.random.random((6, 3))\n",
        "print(n4)"
      ],
      "metadata": {
        "colab": {
          "base_uri": "https://localhost:8080/"
        },
        "id": "QeQgyLmvY1HV",
        "outputId": "eb0311dd-9d89-491d-e72e-970a14634235"
      },
      "execution_count": 6,
      "outputs": [
        {
          "output_type": "stream",
          "name": "stdout",
          "text": [
            "[[0.88089275 0.93232358 0.43181054]\n",
            " [0.90700797 0.82202772 0.83660409]\n",
            " [0.5180082  0.37809479 0.95271196]\n",
            " [0.8431407  0.68626175 0.04078181]\n",
            " [0.98393475 0.14772141 0.56978775]\n",
            " [0.71068442 0.91632426 0.23217817]]\n"
          ]
        }
      ]
    },
    {
      "cell_type": "code",
      "source": [
        "n4_transpose = n4.T\n",
        "print(n4_transpose)"
      ],
      "metadata": {
        "colab": {
          "base_uri": "https://localhost:8080/"
        },
        "id": "bxF-F8jYcgJ2",
        "outputId": "3dac66d8-5e8d-4038-e113-cbb47ebbea8c"
      },
      "execution_count": 7,
      "outputs": [
        {
          "output_type": "stream",
          "name": "stdout",
          "text": [
            "[[0.88089275 0.90700797 0.5180082  0.8431407  0.98393475 0.71068442]\n",
            " [0.93232358 0.82202772 0.37809479 0.68626175 0.14772141 0.91632426]\n",
            " [0.43181054 0.83660409 0.95271196 0.04078181 0.56978775 0.23217817]]\n"
          ]
        }
      ]
    },
    {
      "cell_type": "markdown",
      "source": [
        "###5. Create two random numpy array of size n x p and p x m and then compute the dot product"
      ],
      "metadata": {
        "id": "83t4LSdUZUgE"
      }
    },
    {
      "cell_type": "code",
      "source": [
        "n = 2\n",
        "p = 3\n",
        "m = 4\n",
        "n5a = np.random.random((n, p))\n",
        "print(\"Array (n x p): \\n\", n5a)\n",
        "n5b = np.random.random((p, m))\n",
        "print(\"Array (p x m): \\n\", n5b)\n",
        "dot_product = np.dot(n5a, n5b)\n",
        "print(\"Dot product: \\n\", dot_product)"
      ],
      "metadata": {
        "colab": {
          "base_uri": "https://localhost:8080/"
        },
        "id": "77_w8VsbZTPN",
        "outputId": "062ed573-372c-451c-b058-ff96a65fa44e"
      },
      "execution_count": 8,
      "outputs": [
        {
          "output_type": "stream",
          "name": "stdout",
          "text": [
            "Array (n x p): \n",
            " [[0.56203937 0.15627542 0.65436246]\n",
            " [0.25171676 0.1124668  0.82721924]]\n",
            "Array (p x m): \n",
            " [[0.05469676 0.31169893 0.06112233 0.30113616]\n",
            " [0.83819138 0.12667173 0.5715166  0.77862976]\n",
            " [0.04086629 0.24533146 0.9577578  0.45711871]]\n",
            "Dot product: \n",
            " [[0.1884718  0.35551844 0.7503879  0.59005239]\n",
            " [0.14184217 0.29564911 0.87193784 0.54150841]]\n"
          ]
        }
      ]
    },
    {
      "cell_type": "markdown",
      "source": [
        "#Part 2-Colab and github\n",
        "## From Google Colab, push the notebook onto your GitHub"
      ],
      "metadata": {
        "id": "WBLp2nw_Ztp5"
      }
    }
  ]
}