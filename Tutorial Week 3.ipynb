{
  "nbformat": 4,
  "nbformat_minor": 0,
  "metadata": {
    "colab": {
      "provenance": []
    },
    "kernelspec": {
      "name": "python3",
      "display_name": "Python 3"
    },
    "language_info": {
      "name": "python"
    }
  },
  "cells": [
    {
      "cell_type": "markdown",
      "source": [
        "Tutorial 03"
      ],
      "metadata": {
        "id": "deJhgK_MX0rH"
      }
    },
    {
      "cell_type": "markdown",
      "source": [
        "#Part 1-Google Colab and Python\n",
        "##1. Create a new notebook and code the following"
      ],
      "metadata": {
        "id": "_rcauo2lZdzF"
      }
    },
    {
      "cell_type": "code",
      "source": [
        "import numpy as np"
      ],
      "metadata": {
        "id": "_lFczdGAYOER"
      },
      "execution_count": 1,
      "outputs": []
    },
    {
      "cell_type": "markdown",
      "source": [
        "###1. Create a numpy array of size 2 x 2"
      ],
      "metadata": {
        "id": "vzewkGOlY3mj"
      }
    },
    {
      "cell_type": "code",
      "source": [
        "n1 = np.array([[1, 2], [3, 4]])\n",
        "print(n1)"
      ],
      "metadata": {
        "colab": {
          "base_uri": "https://localhost:8080/"
        },
        "id": "FZT5FdV9YW_g",
        "outputId": "a7adc3d7-c662-44b9-a5b5-df8fad1b63c3"
      },
      "execution_count": 2,
      "outputs": [
        {
          "output_type": "stream",
          "name": "stdout",
          "text": [
            "[[1 2]\n",
            " [3 4]]\n"
          ]
        }
      ]
    },
    {
      "cell_type": "markdown",
      "source": [
        "###2. Create a random numpy array of size 3 x 4"
      ],
      "metadata": {
        "id": "SO-o4d-6Y-vc"
      }
    },
    {
      "cell_type": "code",
      "source": [
        "n2 = np.random.random((3, 4))\n",
        "print(n2)"
      ],
      "metadata": {
        "colab": {
          "base_uri": "https://localhost:8080/"
        },
        "id": "w6fBYp18Yfzd",
        "outputId": "8b026670-05e0-4fe0-c377-fa4ceba7b8b3"
      },
      "execution_count": 3,
      "outputs": [
        {
          "output_type": "stream",
          "name": "stdout",
          "text": [
            "[[0.38175745 0.80046436 0.71575079 0.27224695]\n",
            " [0.84662213 0.64484546 0.3115101  0.37226999]\n",
            " [0.1306141  0.36018781 0.00336119 0.06132355]]\n"
          ]
        }
      ]
    },
    {
      "cell_type": "markdown",
      "source": [
        "###3. Create a numpy array of ones and a numpy array of zeros"
      ],
      "metadata": {
        "id": "U0HAxEMnZCXP"
      }
    },
    {
      "cell_type": "code",
      "source": [
        "n3a = np.ones((2, 2))\n",
        "print(n3a)"
      ],
      "metadata": {
        "colab": {
          "base_uri": "https://localhost:8080/"
        },
        "id": "lvd8asuRYjIX",
        "outputId": "43e40f64-9a08-48b8-8a4f-689e2cfb0920"
      },
      "execution_count": 4,
      "outputs": [
        {
          "output_type": "stream",
          "name": "stdout",
          "text": [
            "[[1. 1.]\n",
            " [1. 1.]]\n"
          ]
        }
      ]
    },
    {
      "cell_type": "code",
      "source": [
        "n3b = np.zeros((2, 2))\n",
        "print(n3b)"
      ],
      "metadata": {
        "colab": {
          "base_uri": "https://localhost:8080/"
        },
        "id": "bkPbqSBuYorK",
        "outputId": "a5ab201e-4ff0-4849-9284-9d0ea6d5a4da"
      },
      "execution_count": 5,
      "outputs": [
        {
          "output_type": "stream",
          "name": "stdout",
          "text": [
            "[[0. 0.]\n",
            " [0. 0.]]\n"
          ]
        }
      ]
    },
    {
      "cell_type": "markdown",
      "source": [
        "###4. Create a random numpy array of size 6 x 3 and transpose it"
      ],
      "metadata": {
        "id": "vdETrlQlZHYN"
      }
    },
    {
      "cell_type": "code",
      "source": [
        "n4 = np.random.random((6, 3))\n",
        "print(n4)"
      ],
      "metadata": {
        "colab": {
          "base_uri": "https://localhost:8080/"
        },
        "id": "QeQgyLmvY1HV",
        "outputId": "ddbe1c39-e4aa-46b3-a57b-1dfea75adb5d"
      },
      "execution_count": 6,
      "outputs": [
        {
          "output_type": "stream",
          "name": "stdout",
          "text": [
            "[[0.73733437 0.7695695  0.14502519]\n",
            " [0.47527839 0.33045604 0.45772524]\n",
            " [0.5118821  0.8316631  0.65649962]\n",
            " [0.38761465 0.67638492 0.44064582]\n",
            " [0.38037002 0.36687113 0.26880405]\n",
            " [0.14703502 0.30708847 0.51900916]]\n"
          ]
        }
      ]
    },
    {
      "cell_type": "code",
      "source": [
        "n4_transpose = n4.T\n",
        "print(n4_transpose)"
      ],
      "metadata": {
        "colab": {
          "base_uri": "https://localhost:8080/"
        },
        "id": "bxF-F8jYcgJ2",
        "outputId": "d13db1a0-fc0c-46f5-842e-26bfd355c1af"
      },
      "execution_count": 7,
      "outputs": [
        {
          "output_type": "stream",
          "name": "stdout",
          "text": [
            "[[0.73733437 0.47527839 0.5118821  0.38761465 0.38037002 0.14703502]\n",
            " [0.7695695  0.33045604 0.8316631  0.67638492 0.36687113 0.30708847]\n",
            " [0.14502519 0.45772524 0.65649962 0.44064582 0.26880405 0.51900916]]\n"
          ]
        }
      ]
    },
    {
      "cell_type": "markdown",
      "source": [
        "###5. Create two random numpy array of size n x p and p x m and then compute the dot product"
      ],
      "metadata": {
        "id": "83t4LSdUZUgE"
      }
    },
    {
      "cell_type": "code",
      "source": [
        "n = 2\n",
        "p = 3\n",
        "m = 4\n",
        "n5a = np.random.random((n, p))\n",
        "print(\"Array (n x p): \\n\", n5a)\n",
        "n5b = np.random.random((p, m))\n",
        "print(\"Array (p x m): \\n\", n5b)\n",
        "dot_product = np.dot(n5a, n5b)\n",
        "print(\"Dot product: \\n\", dot_product)"
      ],
      "metadata": {
        "colab": {
          "base_uri": "https://localhost:8080/"
        },
        "id": "77_w8VsbZTPN",
        "outputId": "fd1baa1f-8284-42f1-d759-5a3047b6f6c5"
      },
      "execution_count": 8,
      "outputs": [
        {
          "output_type": "stream",
          "name": "stdout",
          "text": [
            "Array (n x p): \n",
            " [[0.70578685 0.51256134 0.88655447]\n",
            " [0.44586002 0.16358486 0.44647611]]\n",
            "Array (p x m): \n",
            " [[0.78712352 0.13711289 0.67359933 0.28332829]\n",
            " [0.84590245 0.6750076  0.36261784 0.83341672]\n",
            " [0.03793934 0.3054622  0.91591235 0.03754265]]\n",
            "Dot product: \n",
            " [[1.02275361 0.71356414 1.47328761 0.66043017]\n",
            " [0.50626275 0.30793575 0.76858277 0.27942101]]\n"
          ]
        }
      ]
    },
    {
      "cell_type": "markdown",
      "source": [
        "#Part 2-Colab and github\n",
        "## From Google Colab, push the notebook onto your GitHub"
      ],
      "metadata": {
        "id": "WBLp2nw_Ztp5"
      }
    }
  ]
}